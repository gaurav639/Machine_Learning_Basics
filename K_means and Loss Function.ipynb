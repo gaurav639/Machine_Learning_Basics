{
  "cells": [
    {
      "cell_type": "markdown",
      "metadata": {
        "id": "L_njda2B4cD3"
      },
      "source": [
        "## Q1 K-Means"
      ]
    },
    {
      "cell_type": "markdown",
      "metadata": {
        "id": "LSgVf7Ji4fdp"
      },
      "source": [
        "Implement K-Means Clustering on the dataset at the following location :  https://archive.ics.uci.edu/ml/datasets/Facebook+Live+Sellers+in+Thailand\n",
        "\n",
        "You are expected to do all necessary EDA, feature scaling and transforms.\n",
        "\n",
        "First, arbitarily choose cluster value as 2. Then use the elbow method which was discussed in class to identify the best number of cluster. While exploring this, if you observe the need to consider inertia as a factor, do so with proper rationale.\n",
        "\n",
        "Write a bried explanation as to how PCA can help with clustering in this example."
      ]
    },
    {
      "cell_type": "code",
      "execution_count": 258,
      "metadata": {
        "id": "uAcVFMZy4bcz"
      },
      "outputs": [],
      "source": [
        "import numpy as np\n",
        "import pandas as pd\n",
        "import matplotlib.pyplot as plt\n",
        "import seaborn as sns\n",
        "from sklearn.cluster import KMeans\n",
        "from sklearn.decomposition import PCA\n",
        "from sklearn import preprocessing\n",
        "from sklearn.preprocessing import StandardScaler\n",
        "import datetime"
      ]
    },
    {
      "cell_type": "code",
      "execution_count": 259,
      "metadata": {},
      "outputs": [],
      "source": [
        "data = pd.read_csv(\"https://raw.githubusercontent.com/gaurav639/ML_Plaksha_CSVs/main/Live_20210128.csv\")"
      ]
    },
    {
      "cell_type": "code",
      "execution_count": 260,
      "metadata": {},
      "outputs": [
        {
          "name": "stdout",
          "output_type": "stream",
          "text": [
            "<class 'pandas.core.frame.DataFrame'>\n",
            "RangeIndex: 7050 entries, 0 to 7049\n",
            "Data columns (total 16 columns):\n",
            " #   Column            Non-Null Count  Dtype  \n",
            "---  ------            --------------  -----  \n",
            " 0   status_id         7050 non-null   int64  \n",
            " 1   status_type       7050 non-null   object \n",
            " 2   status_published  7050 non-null   object \n",
            " 3   num_reactions     7050 non-null   int64  \n",
            " 4   num_comments      7050 non-null   int64  \n",
            " 5   num_shares        7050 non-null   int64  \n",
            " 6   num_likes         7050 non-null   int64  \n",
            " 7   num_loves         7050 non-null   int64  \n",
            " 8   num_wows          7050 non-null   int64  \n",
            " 9   num_hahas         7050 non-null   int64  \n",
            " 10  num_sads          7050 non-null   int64  \n",
            " 11  num_angrys        7050 non-null   int64  \n",
            " 12  Column1           0 non-null      float64\n",
            " 13  Column2           0 non-null      float64\n",
            " 14  Column3           0 non-null      float64\n",
            " 15  Column4           0 non-null      float64\n",
            "dtypes: float64(4), int64(10), object(2)\n",
            "memory usage: 881.4+ KB\n"
          ]
        }
      ],
      "source": [
        "data.info()"
      ]
    },
    {
      "cell_type": "code",
      "execution_count": 261,
      "metadata": {},
      "outputs": [
        {
          "data": {
            "text/html": [
              "<div>\n",
              "<style scoped>\n",
              "    .dataframe tbody tr th:only-of-type {\n",
              "        vertical-align: middle;\n",
              "    }\n",
              "\n",
              "    .dataframe tbody tr th {\n",
              "        vertical-align: top;\n",
              "    }\n",
              "\n",
              "    .dataframe thead th {\n",
              "        text-align: right;\n",
              "    }\n",
              "</style>\n",
              "<table border=\"1\" class=\"dataframe\">\n",
              "  <thead>\n",
              "    <tr style=\"text-align: right;\">\n",
              "      <th></th>\n",
              "      <th>status_id</th>\n",
              "      <th>status_type</th>\n",
              "      <th>status_published</th>\n",
              "      <th>num_reactions</th>\n",
              "      <th>num_comments</th>\n",
              "      <th>num_shares</th>\n",
              "      <th>num_likes</th>\n",
              "      <th>num_loves</th>\n",
              "      <th>num_wows</th>\n",
              "      <th>num_hahas</th>\n",
              "      <th>num_sads</th>\n",
              "      <th>num_angrys</th>\n",
              "      <th>Column1</th>\n",
              "      <th>Column2</th>\n",
              "      <th>Column3</th>\n",
              "      <th>Column4</th>\n",
              "    </tr>\n",
              "  </thead>\n",
              "  <tbody>\n",
              "    <tr>\n",
              "      <th>0</th>\n",
              "      <td>1</td>\n",
              "      <td>video</td>\n",
              "      <td>4/22/2018 6:00</td>\n",
              "      <td>529</td>\n",
              "      <td>512</td>\n",
              "      <td>262</td>\n",
              "      <td>432</td>\n",
              "      <td>92</td>\n",
              "      <td>3</td>\n",
              "      <td>1</td>\n",
              "      <td>1</td>\n",
              "      <td>0</td>\n",
              "      <td>NaN</td>\n",
              "      <td>NaN</td>\n",
              "      <td>NaN</td>\n",
              "      <td>NaN</td>\n",
              "    </tr>\n",
              "    <tr>\n",
              "      <th>1</th>\n",
              "      <td>2</td>\n",
              "      <td>photo</td>\n",
              "      <td>4/21/2018 22:45</td>\n",
              "      <td>150</td>\n",
              "      <td>0</td>\n",
              "      <td>0</td>\n",
              "      <td>150</td>\n",
              "      <td>0</td>\n",
              "      <td>0</td>\n",
              "      <td>0</td>\n",
              "      <td>0</td>\n",
              "      <td>0</td>\n",
              "      <td>NaN</td>\n",
              "      <td>NaN</td>\n",
              "      <td>NaN</td>\n",
              "      <td>NaN</td>\n",
              "    </tr>\n",
              "    <tr>\n",
              "      <th>2</th>\n",
              "      <td>3</td>\n",
              "      <td>video</td>\n",
              "      <td>4/21/2018 6:17</td>\n",
              "      <td>227</td>\n",
              "      <td>236</td>\n",
              "      <td>57</td>\n",
              "      <td>204</td>\n",
              "      <td>21</td>\n",
              "      <td>1</td>\n",
              "      <td>1</td>\n",
              "      <td>0</td>\n",
              "      <td>0</td>\n",
              "      <td>NaN</td>\n",
              "      <td>NaN</td>\n",
              "      <td>NaN</td>\n",
              "      <td>NaN</td>\n",
              "    </tr>\n",
              "    <tr>\n",
              "      <th>3</th>\n",
              "      <td>4</td>\n",
              "      <td>photo</td>\n",
              "      <td>4/21/2018 2:29</td>\n",
              "      <td>111</td>\n",
              "      <td>0</td>\n",
              "      <td>0</td>\n",
              "      <td>111</td>\n",
              "      <td>0</td>\n",
              "      <td>0</td>\n",
              "      <td>0</td>\n",
              "      <td>0</td>\n",
              "      <td>0</td>\n",
              "      <td>NaN</td>\n",
              "      <td>NaN</td>\n",
              "      <td>NaN</td>\n",
              "      <td>NaN</td>\n",
              "    </tr>\n",
              "    <tr>\n",
              "      <th>4</th>\n",
              "      <td>5</td>\n",
              "      <td>photo</td>\n",
              "      <td>4/18/2018 3:22</td>\n",
              "      <td>213</td>\n",
              "      <td>0</td>\n",
              "      <td>0</td>\n",
              "      <td>204</td>\n",
              "      <td>9</td>\n",
              "      <td>0</td>\n",
              "      <td>0</td>\n",
              "      <td>0</td>\n",
              "      <td>0</td>\n",
              "      <td>NaN</td>\n",
              "      <td>NaN</td>\n",
              "      <td>NaN</td>\n",
              "      <td>NaN</td>\n",
              "    </tr>\n",
              "  </tbody>\n",
              "</table>\n",
              "</div>"
            ],
            "text/plain": [
              "   status_id status_type status_published  num_reactions  num_comments  \\\n",
              "0          1       video   4/22/2018 6:00            529           512   \n",
              "1          2       photo  4/21/2018 22:45            150             0   \n",
              "2          3       video   4/21/2018 6:17            227           236   \n",
              "3          4       photo   4/21/2018 2:29            111             0   \n",
              "4          5       photo   4/18/2018 3:22            213             0   \n",
              "\n",
              "   num_shares  num_likes  num_loves  num_wows  num_hahas  num_sads  \\\n",
              "0         262        432         92         3          1         1   \n",
              "1           0        150          0         0          0         0   \n",
              "2          57        204         21         1          1         0   \n",
              "3           0        111          0         0          0         0   \n",
              "4           0        204          9         0          0         0   \n",
              "\n",
              "   num_angrys  Column1  Column2  Column3  Column4  \n",
              "0           0      NaN      NaN      NaN      NaN  \n",
              "1           0      NaN      NaN      NaN      NaN  \n",
              "2           0      NaN      NaN      NaN      NaN  \n",
              "3           0      NaN      NaN      NaN      NaN  \n",
              "4           0      NaN      NaN      NaN      NaN  "
            ]
          },
          "execution_count": 261,
          "metadata": {},
          "output_type": "execute_result"
        }
      ],
      "source": [
        "data.head()"
      ]
    },
    {
      "attachments": {},
      "cell_type": "markdown",
      "metadata": {},
      "source": [
        "First we need to deal with status_published feature which is a timeseries feature. I converted this feature into datetime series then I took the time(hour component) and then group time into three categories:\n",
        "1. hour >= 6 and hour < 12: Morning\n",
        "2. hour >= 12 and hour < 18: Afternoon\n",
        "3. other than this: Night "
      ]
    },
    {
      "cell_type": "code",
      "execution_count": 242,
      "metadata": {},
      "outputs": [],
      "source": [
        "# Convert the 'status_published' column to datetime\n",
        "data['status_published'] = pd.to_datetime(data['status_published'])\n",
        "\n",
        "# Extract the hour component\n",
        "data['hour'] = data['status_published'].dt.hour\n",
        "\n",
        "# Create a function to assign each hour to a class\n",
        "def assign_class(hour):\n",
        "  if hour >= 6 and hour < 12:\n",
        "    return 'morning'\n",
        "  elif hour >= 12 and hour < 18:\n",
        "    return 'afternoon'\n",
        "  else:\n",
        "    return 'night'\n",
        "\n",
        "# Apply the function to the 'hour' column\n",
        "data['times_of_day'] = data['hour'].apply(assign_class)"
      ]
    },
    {
      "attachments": {},
      "cell_type": "markdown",
      "metadata": {},
      "source": [
        "Dropping all the columns which we don't need"
      ]
    },
    {
      "cell_type": "code",
      "execution_count": 243,
      "metadata": {},
      "outputs": [],
      "source": [
        "data.drop(data.columns[[0, 2, 12, 13, 14, 15, 16]], axis=1, inplace=True)"
      ]
    },
    {
      "cell_type": "code",
      "execution_count": 244,
      "metadata": {},
      "outputs": [
        {
          "data": {
            "text/html": [
              "<div>\n",
              "<style scoped>\n",
              "    .dataframe tbody tr th:only-of-type {\n",
              "        vertical-align: middle;\n",
              "    }\n",
              "\n",
              "    .dataframe tbody tr th {\n",
              "        vertical-align: top;\n",
              "    }\n",
              "\n",
              "    .dataframe thead th {\n",
              "        text-align: right;\n",
              "    }\n",
              "</style>\n",
              "<table border=\"1\" class=\"dataframe\">\n",
              "  <thead>\n",
              "    <tr style=\"text-align: right;\">\n",
              "      <th></th>\n",
              "      <th>status_type</th>\n",
              "      <th>num_reactions</th>\n",
              "      <th>num_comments</th>\n",
              "      <th>num_shares</th>\n",
              "      <th>num_likes</th>\n",
              "      <th>num_loves</th>\n",
              "      <th>num_wows</th>\n",
              "      <th>num_hahas</th>\n",
              "      <th>num_sads</th>\n",
              "      <th>num_angrys</th>\n",
              "      <th>times_of_day</th>\n",
              "    </tr>\n",
              "  </thead>\n",
              "  <tbody>\n",
              "    <tr>\n",
              "      <th>0</th>\n",
              "      <td>video</td>\n",
              "      <td>529</td>\n",
              "      <td>512</td>\n",
              "      <td>262</td>\n",
              "      <td>432</td>\n",
              "      <td>92</td>\n",
              "      <td>3</td>\n",
              "      <td>1</td>\n",
              "      <td>1</td>\n",
              "      <td>0</td>\n",
              "      <td>morning</td>\n",
              "    </tr>\n",
              "    <tr>\n",
              "      <th>1</th>\n",
              "      <td>photo</td>\n",
              "      <td>150</td>\n",
              "      <td>0</td>\n",
              "      <td>0</td>\n",
              "      <td>150</td>\n",
              "      <td>0</td>\n",
              "      <td>0</td>\n",
              "      <td>0</td>\n",
              "      <td>0</td>\n",
              "      <td>0</td>\n",
              "      <td>night</td>\n",
              "    </tr>\n",
              "    <tr>\n",
              "      <th>2</th>\n",
              "      <td>video</td>\n",
              "      <td>227</td>\n",
              "      <td>236</td>\n",
              "      <td>57</td>\n",
              "      <td>204</td>\n",
              "      <td>21</td>\n",
              "      <td>1</td>\n",
              "      <td>1</td>\n",
              "      <td>0</td>\n",
              "      <td>0</td>\n",
              "      <td>morning</td>\n",
              "    </tr>\n",
              "    <tr>\n",
              "      <th>3</th>\n",
              "      <td>photo</td>\n",
              "      <td>111</td>\n",
              "      <td>0</td>\n",
              "      <td>0</td>\n",
              "      <td>111</td>\n",
              "      <td>0</td>\n",
              "      <td>0</td>\n",
              "      <td>0</td>\n",
              "      <td>0</td>\n",
              "      <td>0</td>\n",
              "      <td>night</td>\n",
              "    </tr>\n",
              "    <tr>\n",
              "      <th>4</th>\n",
              "      <td>photo</td>\n",
              "      <td>213</td>\n",
              "      <td>0</td>\n",
              "      <td>0</td>\n",
              "      <td>204</td>\n",
              "      <td>9</td>\n",
              "      <td>0</td>\n",
              "      <td>0</td>\n",
              "      <td>0</td>\n",
              "      <td>0</td>\n",
              "      <td>night</td>\n",
              "    </tr>\n",
              "  </tbody>\n",
              "</table>\n",
              "</div>"
            ],
            "text/plain": [
              "  status_type  num_reactions  num_comments  num_shares  num_likes  num_loves  \\\n",
              "0       video            529           512         262        432         92   \n",
              "1       photo            150             0           0        150          0   \n",
              "2       video            227           236          57        204         21   \n",
              "3       photo            111             0           0        111          0   \n",
              "4       photo            213             0           0        204          9   \n",
              "\n",
              "   num_wows  num_hahas  num_sads  num_angrys times_of_day  \n",
              "0         3          1         1           0      morning  \n",
              "1         0          0         0           0        night  \n",
              "2         1          1         0           0      morning  \n",
              "3         0          0         0           0        night  \n",
              "4         0          0         0           0        night  "
            ]
          },
          "execution_count": 244,
          "metadata": {},
          "output_type": "execute_result"
        }
      ],
      "source": [
        "data.head()"
      ]
    },
    {
      "attachments": {},
      "cell_type": "markdown",
      "metadata": {},
      "source": [
        "One-hot encoding 'status-type' and 'times_of_day' columns"
      ]
    },
    {
      "cell_type": "code",
      "execution_count": 245,
      "metadata": {},
      "outputs": [],
      "source": [
        "data = pd.get_dummies(data, columns = ['status_type','times_of_day'])"
      ]
    },
    {
      "cell_type": "code",
      "execution_count": 246,
      "metadata": {},
      "outputs": [
        {
          "data": {
            "text/plain": [
              "Index(['num_reactions', 'num_comments', 'num_shares', 'num_likes', 'num_loves',\n",
              "       'num_wows', 'num_hahas', 'num_sads', 'num_angrys', 'status_type_link',\n",
              "       'status_type_photo', 'status_type_status', 'status_type_video',\n",
              "       'times_of_day_afternoon', 'times_of_day_morning', 'times_of_day_night'],\n",
              "      dtype='object')"
            ]
          },
          "execution_count": 246,
          "metadata": {},
          "output_type": "execute_result"
        }
      ],
      "source": [
        "data.columns"
      ]
    },
    {
      "attachments": {},
      "cell_type": "markdown",
      "metadata": {},
      "source": [
        "Scaling all the features other than one-hot encoded features."
      ]
    },
    {
      "cell_type": "code",
      "execution_count": 247,
      "metadata": {},
      "outputs": [],
      "source": [
        "scaler = StandardScaler()\n",
        "scaler.fit(data.iloc[:,:9])\n",
        "data.iloc[:,:9] = scaler.transform(data.iloc[:,:9])"
      ]
    },
    {
      "cell_type": "code",
      "execution_count": 248,
      "metadata": {},
      "outputs": [
        {
          "data": {
            "text/html": [
              "<div>\n",
              "<style scoped>\n",
              "    .dataframe tbody tr th:only-of-type {\n",
              "        vertical-align: middle;\n",
              "    }\n",
              "\n",
              "    .dataframe tbody tr th {\n",
              "        vertical-align: top;\n",
              "    }\n",
              "\n",
              "    .dataframe thead th {\n",
              "        text-align: right;\n",
              "    }\n",
              "</style>\n",
              "<table border=\"1\" class=\"dataframe\">\n",
              "  <thead>\n",
              "    <tr style=\"text-align: right;\">\n",
              "      <th></th>\n",
              "      <th>num_reactions</th>\n",
              "      <th>num_comments</th>\n",
              "      <th>num_shares</th>\n",
              "      <th>num_likes</th>\n",
              "      <th>num_loves</th>\n",
              "      <th>num_wows</th>\n",
              "      <th>num_hahas</th>\n",
              "      <th>num_sads</th>\n",
              "      <th>num_angrys</th>\n",
              "      <th>status_type_link</th>\n",
              "      <th>status_type_photo</th>\n",
              "      <th>status_type_status</th>\n",
              "      <th>status_type_video</th>\n",
              "      <th>times_of_day_afternoon</th>\n",
              "      <th>times_of_day_morning</th>\n",
              "      <th>times_of_day_night</th>\n",
              "    </tr>\n",
              "  </thead>\n",
              "  <tbody>\n",
              "    <tr>\n",
              "      <th>0</th>\n",
              "      <td>0.646104</td>\n",
              "      <td>0.323350</td>\n",
              "      <td>1.686879</td>\n",
              "      <td>0.482727</td>\n",
              "      <td>1.983266</td>\n",
              "      <td>0.196196</td>\n",
              "      <td>0.076713</td>\n",
              "      <td>0.473570</td>\n",
              "      <td>-0.155748</td>\n",
              "      <td>0</td>\n",
              "      <td>0</td>\n",
              "      <td>0</td>\n",
              "      <td>1</td>\n",
              "      <td>0</td>\n",
              "      <td>1</td>\n",
              "      <td>0</td>\n",
              "    </tr>\n",
              "    <tr>\n",
              "      <th>1</th>\n",
              "      <td>-0.173192</td>\n",
              "      <td>-0.252206</td>\n",
              "      <td>-0.304144</td>\n",
              "      <td>-0.144720</td>\n",
              "      <td>-0.318454</td>\n",
              "      <td>-0.147879</td>\n",
              "      <td>-0.176010</td>\n",
              "      <td>-0.152587</td>\n",
              "      <td>-0.155748</td>\n",
              "      <td>0</td>\n",
              "      <td>1</td>\n",
              "      <td>0</td>\n",
              "      <td>0</td>\n",
              "      <td>0</td>\n",
              "      <td>0</td>\n",
              "      <td>1</td>\n",
              "    </tr>\n",
              "    <tr>\n",
              "      <th>2</th>\n",
              "      <td>-0.006738</td>\n",
              "      <td>0.013089</td>\n",
              "      <td>0.129017</td>\n",
              "      <td>-0.024571</td>\n",
              "      <td>0.206938</td>\n",
              "      <td>-0.033187</td>\n",
              "      <td>0.076713</td>\n",
              "      <td>-0.152587</td>\n",
              "      <td>-0.155748</td>\n",
              "      <td>0</td>\n",
              "      <td>0</td>\n",
              "      <td>0</td>\n",
              "      <td>1</td>\n",
              "      <td>0</td>\n",
              "      <td>1</td>\n",
              "      <td>0</td>\n",
              "    </tr>\n",
              "    <tr>\n",
              "      <th>3</th>\n",
              "      <td>-0.257499</td>\n",
              "      <td>-0.252206</td>\n",
              "      <td>-0.304144</td>\n",
              "      <td>-0.231495</td>\n",
              "      <td>-0.318454</td>\n",
              "      <td>-0.147879</td>\n",
              "      <td>-0.176010</td>\n",
              "      <td>-0.152587</td>\n",
              "      <td>-0.155748</td>\n",
              "      <td>0</td>\n",
              "      <td>1</td>\n",
              "      <td>0</td>\n",
              "      <td>0</td>\n",
              "      <td>0</td>\n",
              "      <td>0</td>\n",
              "      <td>1</td>\n",
              "    </tr>\n",
              "    <tr>\n",
              "      <th>4</th>\n",
              "      <td>-0.037003</td>\n",
              "      <td>-0.252206</td>\n",
              "      <td>-0.304144</td>\n",
              "      <td>-0.024571</td>\n",
              "      <td>-0.093286</td>\n",
              "      <td>-0.147879</td>\n",
              "      <td>-0.176010</td>\n",
              "      <td>-0.152587</td>\n",
              "      <td>-0.155748</td>\n",
              "      <td>0</td>\n",
              "      <td>1</td>\n",
              "      <td>0</td>\n",
              "      <td>0</td>\n",
              "      <td>0</td>\n",
              "      <td>0</td>\n",
              "      <td>1</td>\n",
              "    </tr>\n",
              "  </tbody>\n",
              "</table>\n",
              "</div>"
            ],
            "text/plain": [
              "   num_reactions  num_comments  num_shares  num_likes  num_loves  num_wows  \\\n",
              "0       0.646104      0.323350    1.686879   0.482727   1.983266  0.196196   \n",
              "1      -0.173192     -0.252206   -0.304144  -0.144720  -0.318454 -0.147879   \n",
              "2      -0.006738      0.013089    0.129017  -0.024571   0.206938 -0.033187   \n",
              "3      -0.257499     -0.252206   -0.304144  -0.231495  -0.318454 -0.147879   \n",
              "4      -0.037003     -0.252206   -0.304144  -0.024571  -0.093286 -0.147879   \n",
              "\n",
              "   num_hahas  num_sads  num_angrys  status_type_link  status_type_photo  \\\n",
              "0   0.076713  0.473570   -0.155748                 0                  0   \n",
              "1  -0.176010 -0.152587   -0.155748                 0                  1   \n",
              "2   0.076713 -0.152587   -0.155748                 0                  0   \n",
              "3  -0.176010 -0.152587   -0.155748                 0                  1   \n",
              "4  -0.176010 -0.152587   -0.155748                 0                  1   \n",
              "\n",
              "   status_type_status  status_type_video  times_of_day_afternoon  \\\n",
              "0                   0                  1                       0   \n",
              "1                   0                  0                       0   \n",
              "2                   0                  1                       0   \n",
              "3                   0                  0                       0   \n",
              "4                   0                  0                       0   \n",
              "\n",
              "   times_of_day_morning  times_of_day_night  \n",
              "0                     1                   0  \n",
              "1                     0                   1  \n",
              "2                     1                   0  \n",
              "3                     0                   1  \n",
              "4                     0                   1  "
            ]
          },
          "execution_count": 248,
          "metadata": {},
          "output_type": "execute_result"
        }
      ],
      "source": [
        "data.head()"
      ]
    },
    {
      "attachments": {},
      "cell_type": "markdown",
      "metadata": {},
      "source": [
        "Taking number of clusters = 2"
      ]
    },
    {
      "cell_type": "code",
      "execution_count": 191,
      "metadata": {},
      "outputs": [],
      "source": [
        "# km0 = KMeans(n_clusters=2)\n",
        "# data['cluster'] = km0.fit_predict(data)"
      ]
    },
    {
      "attachments": {},
      "cell_type": "markdown",
      "metadata": {},
      "source": [
        "**Inertia** is the sum of squared distances of samples to their closest cluster centre. We calculate it for every cluster in a particular range then plot it against number of clusters to see a dip in the line and then choose the number of clusters to take. "
      ]
    },
    {
      "cell_type": "code",
      "execution_count": 249,
      "metadata": {},
      "outputs": [
        {
          "data": {
            "image/png": "[encoded data removed]",
            "text/plain": [
              "<Figure size 640x480 with 1 Axes>"
            ]
          },
          "metadata": {},
          "output_type": "display_data"
        }
      ],
      "source": [
        "sse = []\n",
        "k_rng = range(1,10)\n",
        "for k in k_rng:\n",
        "    km = KMeans(n_clusters=k, max_iter=100, n_init=10, random_state=42)\n",
        "    km.fit(data)\n",
        "    sse.append(km.inertia_)\n",
        "\n",
        "k = [i*100 for i in np.diff(sse,2)].index(min([i*100 for i \n",
        "     in np.diff(sse,2)]))\n",
        "\n",
        "## plot\n",
        "fig, ax = plt.subplots()\n",
        "ax.plot(range(1, len(sse)+1), sse)\n",
        "ax.axvline(k, ls='--', color=\"red\", label=\"k = \"+str(k))\n",
        "ax.set(title='The Elbow Method', xlabel='Number of clusters', \n",
        "       ylabel=\"Sum of squared Error\")\n",
        "ax.legend()\n",
        "ax.grid(True)\n",
        "plt.show()"
      ]
    },
    {
      "attachments": {},
      "cell_type": "markdown",
      "metadata": {},
      "source": [
        "From elbow method it is clear that we have to take number of clusters = 4, but when I am taking number of clusters = 3 then I am getting a very good separation. So, only by seeing elbow method we should not take the number of clusters, we take numbers around it also and check which number is giving better separation. In my case it is 3."
      ]
    },
    {
      "cell_type": "code",
      "execution_count": 250,
      "metadata": {},
      "outputs": [],
      "source": [
        "km = KMeans(n_clusters=3)\n",
        "data['clusters'] = km.fit_predict(data)"
      ]
    },
    {
      "cell_type": "code",
      "execution_count": 251,
      "metadata": {},
      "outputs": [],
      "source": [
        "label_center_dict = {k:v for k, v in zip(km.labels_, km.cluster_centers_)}\n",
        "data['centroids'] = km.labels_\n",
        "data['centroids'].replace(label_center_dict, inplace = True)"
      ]
    },
    {
      "cell_type": "code",
      "execution_count": 198,
      "metadata": {},
      "outputs": [
        {
          "data": {
            "text/html": [
              "<div>\n",
              "<style scoped>\n",
              "    .dataframe tbody tr th:only-of-type {\n",
              "        vertical-align: middle;\n",
              "    }\n",
              "\n",
              "    .dataframe tbody tr th {\n",
              "        vertical-align: top;\n",
              "    }\n",
              "\n",
              "    .dataframe thead th {\n",
              "        text-align: right;\n",
              "    }\n",
              "</style>\n",
              "<table border=\"1\" class=\"dataframe\">\n",
              "  <thead>\n",
              "    <tr style=\"text-align: right;\">\n",
              "      <th></th>\n",
              "      <th>num_reactions</th>\n",
              "      <th>num_comments</th>\n",
              "      <th>num_shares</th>\n",
              "      <th>num_likes</th>\n",
              "      <th>num_loves</th>\n",
              "      <th>num_wows</th>\n",
              "      <th>num_hahas</th>\n",
              "      <th>num_sads</th>\n",
              "      <th>num_angrys</th>\n",
              "      <th>status_type_link</th>\n",
              "      <th>status_type_photo</th>\n",
              "      <th>status_type_status</th>\n",
              "      <th>status_type_video</th>\n",
              "      <th>times_of_day_afternoon</th>\n",
              "      <th>times_of_day_morning</th>\n",
              "      <th>times_of_day_night</th>\n",
              "      <th>clusters</th>\n",
              "      <th>centroids</th>\n",
              "    </tr>\n",
              "  </thead>\n",
              "  <tbody>\n",
              "    <tr>\n",
              "      <th>0</th>\n",
              "      <td>0.646104</td>\n",
              "      <td>0.323350</td>\n",
              "      <td>1.686879</td>\n",
              "      <td>0.482727</td>\n",
              "      <td>1.983266</td>\n",
              "      <td>0.196196</td>\n",
              "      <td>0.076713</td>\n",
              "      <td>0.473570</td>\n",
              "      <td>-0.155748</td>\n",
              "      <td>-0.094957</td>\n",
              "      <td>-1.245993</td>\n",
              "      <td>-0.233666</td>\n",
              "      <td>1.421466</td>\n",
              "      <td>-0.161405</td>\n",
              "      <td>1.240816</td>\n",
              "      <td>-1.177194</td>\n",
              "      <td>0</td>\n",
              "      <td>-0.302706</td>\n",
              "    </tr>\n",
              "    <tr>\n",
              "      <th>1</th>\n",
              "      <td>-0.173192</td>\n",
              "      <td>-0.252206</td>\n",
              "      <td>-0.304144</td>\n",
              "      <td>-0.144720</td>\n",
              "      <td>-0.318454</td>\n",
              "      <td>-0.147879</td>\n",
              "      <td>-0.176010</td>\n",
              "      <td>-0.152587</td>\n",
              "      <td>-0.155748</td>\n",
              "      <td>-0.094957</td>\n",
              "      <td>0.802573</td>\n",
              "      <td>-0.233666</td>\n",
              "      <td>-0.703499</td>\n",
              "      <td>-0.161405</td>\n",
              "      <td>-0.805921</td>\n",
              "      <td>0.849477</td>\n",
              "      <td>1</td>\n",
              "      <td>-0.101924</td>\n",
              "    </tr>\n",
              "    <tr>\n",
              "      <th>2</th>\n",
              "      <td>-0.006738</td>\n",
              "      <td>0.013089</td>\n",
              "      <td>0.129017</td>\n",
              "      <td>-0.024571</td>\n",
              "      <td>0.206938</td>\n",
              "      <td>-0.033187</td>\n",
              "      <td>0.076713</td>\n",
              "      <td>-0.152587</td>\n",
              "      <td>-0.155748</td>\n",
              "      <td>-0.094957</td>\n",
              "      <td>-1.245993</td>\n",
              "      <td>-0.233666</td>\n",
              "      <td>1.421466</td>\n",
              "      <td>-0.161405</td>\n",
              "      <td>1.240816</td>\n",
              "      <td>-1.177194</td>\n",
              "      <td>0</td>\n",
              "      <td>-0.292998</td>\n",
              "    </tr>\n",
              "    <tr>\n",
              "      <th>3</th>\n",
              "      <td>-0.257499</td>\n",
              "      <td>-0.252206</td>\n",
              "      <td>-0.304144</td>\n",
              "      <td>-0.231495</td>\n",
              "      <td>-0.318454</td>\n",
              "      <td>-0.147879</td>\n",
              "      <td>-0.176010</td>\n",
              "      <td>-0.152587</td>\n",
              "      <td>-0.155748</td>\n",
              "      <td>-0.094957</td>\n",
              "      <td>0.802573</td>\n",
              "      <td>-0.233666</td>\n",
              "      <td>-0.703499</td>\n",
              "      <td>-0.161405</td>\n",
              "      <td>-0.805921</td>\n",
              "      <td>0.849477</td>\n",
              "      <td>1</td>\n",
              "      <td>-0.017871</td>\n",
              "    </tr>\n",
              "    <tr>\n",
              "      <th>4</th>\n",
              "      <td>-0.037003</td>\n",
              "      <td>-0.252206</td>\n",
              "      <td>-0.304144</td>\n",
              "      <td>-0.024571</td>\n",
              "      <td>-0.093286</td>\n",
              "      <td>-0.147879</td>\n",
              "      <td>-0.176010</td>\n",
              "      <td>-0.152587</td>\n",
              "      <td>-0.155748</td>\n",
              "      <td>-0.094957</td>\n",
              "      <td>0.802573</td>\n",
              "      <td>-0.233666</td>\n",
              "      <td>-0.703499</td>\n",
              "      <td>-0.161405</td>\n",
              "      <td>-0.805921</td>\n",
              "      <td>0.849477</td>\n",
              "      <td>1</td>\n",
              "      <td>-0.207198</td>\n",
              "    </tr>\n",
              "  </tbody>\n",
              "</table>\n",
              "</div>"
            ],
            "text/plain": [
              "   num_reactions  num_comments  num_shares  num_likes  num_loves  num_wows  \\\n",
              "0       0.646104      0.323350    1.686879   0.482727   1.983266  0.196196   \n",
              "1      -0.173192     -0.252206   -0.304144  -0.144720  -0.318454 -0.147879   \n",
              "2      -0.006738      0.013089    0.129017  -0.024571   0.206938 -0.033187   \n",
              "3      -0.257499     -0.252206   -0.304144  -0.231495  -0.318454 -0.147879   \n",
              "4      -0.037003     -0.252206   -0.304144  -0.024571  -0.093286 -0.147879   \n",
              "\n",
              "   num_hahas  num_sads  num_angrys  status_type_link  status_type_photo  \\\n",
              "0   0.076713  0.473570   -0.155748         -0.094957          -1.245993   \n",
              "1  -0.176010 -0.152587   -0.155748         -0.094957           0.802573   \n",
              "2   0.076713 -0.152587   -0.155748         -0.094957          -1.245993   \n",
              "3  -0.176010 -0.152587   -0.155748         -0.094957           0.802573   \n",
              "4  -0.176010 -0.152587   -0.155748         -0.094957           0.802573   \n",
              "\n",
              "   status_type_status  status_type_video  times_of_day_afternoon  \\\n",
              "0           -0.233666           1.421466               -0.161405   \n",
              "1           -0.233666          -0.703499               -0.161405   \n",
              "2           -0.233666           1.421466               -0.161405   \n",
              "3           -0.233666          -0.703499               -0.161405   \n",
              "4           -0.233666          -0.703499               -0.161405   \n",
              "\n",
              "   times_of_day_morning  times_of_day_night  clusters  centroids  \n",
              "0              1.240816           -1.177194         0  -0.302706  \n",
              "1             -0.805921            0.849477         1  -0.101924  \n",
              "2              1.240816           -1.177194         0  -0.292998  \n",
              "3             -0.805921            0.849477         1  -0.017871  \n",
              "4             -0.805921            0.849477         1  -0.207198  "
            ]
          },
          "execution_count": 198,
          "metadata": {},
          "output_type": "execute_result"
        }
      ],
      "source": [
        "data.head()"
      ]
    },
    {
      "attachments": {},
      "cell_type": "markdown",
      "metadata": {},
      "source": [
        "Here, I am using PCA to transform data to 2 dimensions for visualization. We can also use PCA in the start to first reduce the features then make the clusters. Since PCA is a technique that reduces the number of variables by combining them into bigger, more meaningful features."
      ]
    },
    {
      "attachments": {},
      "cell_type": "markdown",
      "metadata": {},
      "source": [
        "So here, using PCA we can visually separate almost the entire data set."
      ]
    },
    {
      "cell_type": "code",
      "execution_count": 255,
      "metadata": {},
      "outputs": [
        {
          "data": {
            "image/png": "[encoded data removed]",
            "text/plain": [
              "<Figure size 1500x1000 with 1 Axes>"
            ]
          },
          "metadata": {},
          "output_type": "display_data"
        }
      ],
      "source": [
        "pca_num_components = 2\n",
        "\n",
        "reduced_data = PCA(n_components=pca_num_components).fit_transform(data)\n",
        "results = pd.DataFrame(reduced_data,columns=['pca1','pca2'])\n",
        "\n",
        "fig, ax = plt.subplots(figsize=(15,10))\n",
        "sns.scatterplot(x=\"pca1\", y=\"pca2\", hue=data['clusters'], data=results, palette = ['g','r','c'])\n",
        "plt.title('K-means Clustering with 2 dimensions')\n",
        "\n",
        "plt.show()"
      ]
    },
    {
      "cell_type": "markdown",
      "metadata": {
        "id": "QkifVYGZ59Hm"
      },
      "source": [
        "## Q2 Loss Functions"
      ]
    },
    {
      "cell_type": "markdown",
      "metadata": {
        "id": "Ea67Ngq-6AfC"
      },
      "source": [
        "Let the desired output to 10 inputs be,\n",
        "\n",
        "> [0,1,0,0,1,0,0,1,1,1]\n",
        "\n",
        "\n",
        "and let the corresponding actual output obtained from a machine be \n",
        "\n",
        "\n",
        "> [0.2, 0.2, 0.2, 0.2, 0.2, 0.2, 0.2, 0.2, 0.2, 0.2]\n",
        "\n",
        "\n",
        "Find programmatically or by hand the loss obtained from using:\n",
        "\n",
        "1.   a symmetric 0 − 1 loss function,\n",
        "\n",
        "2.   the cross-entropy loss function and\n",
        "\n",
        "3.   the hinge loss function.\n",
        "\n",
        "If required assume a threshold of 0.5 to obtain a class from the machine output.  (sklearn by default uses 0.5 as threshold for binary classification) "
      ]
    },
    {
      "cell_type": "code",
      "execution_count": 262,
      "metadata": {
        "id": "8ZOp5wOK6AEC"
      },
      "outputs": [],
      "source": [
        "actual=[0,1,0,0,1,0,0,1,1,1]\n",
        "pred=[0.2, 0.2, 0.2, 0.2, 0.2, 0.2, 0.2, 0.2, 0.2, 0.2]"
      ]
    },
    {
      "attachments": {},
      "cell_type": "markdown",
      "metadata": {},
      "source": [
        "**1. Symmetric 0-1 Loss Function**\n",
        "\n",
        "If actual value is equal to predicted value then that prediction is not penalised, else 1 is added to the loss. Hence the loss sum is divided by total number of points.\n",
        "\n",
        "Reference: https://en.wikipedia.org/wiki/Loss_function#0-1_loss_function"
      ]
    },
    {
      "cell_type": "code",
      "execution_count": 268,
      "metadata": {},
      "outputs": [
        {
          "name": "stdout",
          "output_type": "stream",
          "text": [
            "The symmetric 0-1 loss using threshold 0.5 is 0.50\n"
          ]
        }
      ],
      "source": [
        "predict=[]\n",
        "x=0\n",
        "for i in range(len(actual)):\n",
        "  if pred[i]>0.5:\n",
        "    predict.append(1)\n",
        "  else:\n",
        "    predict.append(0)\n",
        "  if predict[i]==actual[i]:\n",
        "    x+=0\n",
        "  else:\n",
        "    x+=1\n",
        "print(\"The symmetric 0-1 loss using threshold 0.5 is {:.2f}\".format(x/len(actual)))\n"
      ]
    },
    {
      "attachments": {},
      "cell_type": "markdown",
      "metadata": {},
      "source": [
        "**2. Cross - Entropy Loss Function**\n",
        "\n",
        "$ l = −y*log(p) - (1−y)*log(1−p)$ \n",
        "\n",
        "loss = sum(l) / (number of points)\n",
        "\n",
        "Reference: https://scikit-learn.org/stable/modules/generated/sklearn.metrics.log_loss.html"
      ]
    },
    {
      "cell_type": "code",
      "execution_count": 270,
      "metadata": {},
      "outputs": [
        {
          "name": "stdout",
          "output_type": "stream",
          "text": [
            "The Cross-entropy loss using threshold 0.5 is 0.92\n"
          ]
        }
      ],
      "source": [
        "from sklearn.metrics import log_loss\n",
        "\n",
        "print(\"The Cross-entropy loss using threshold 0.5 is {:.2f}\".format(log_loss(actual,pred)))"
      ]
    },
    {
      "attachments": {},
      "cell_type": "markdown",
      "metadata": {},
      "source": [
        "**3. Hinge Loss Function**\n",
        "\n",
        "$l = max(0, 1-(actual*predicted))$ \n",
        "\n",
        "loss = sum(l) / (number of points)\n",
        "\n",
        "Reference: https://en.wikipedia.org/wiki/Hinge_loss"
      ]
    },
    {
      "cell_type": "code",
      "execution_count": 269,
      "metadata": {},
      "outputs": [
        {
          "name": "stdout",
          "output_type": "stream",
          "text": [
            "The hinge loss using threshold 0.5 is 0.90\n"
          ]
        }
      ],
      "source": [
        "x=0\n",
        "for i in range(len(pred)):\n",
        "    x+=max(0,1-actual[i]*pred[i])\n",
        "\n",
        "print(\"The hinge loss using threshold 0.5 is {:.2f}\".format(x/len(actual)))"
      ]
    }
  ],
  "metadata": {
    "colab": {
      "provenance": []
    },
    "kernelspec": {
      "display_name": "Python 3",
      "language": "python",
      "name": "python3"
    },
    "language_info": {
      "codemirror_mode": {
        "name": "ipython",
        "version": 3
      },
      "file_extension": ".py",
      "mimetype": "text/x-python",
      "name": "python",
      "nbconvert_exporter": "python",
      "pygments_lexer": "ipython3",
      "version": "3.9.13"
    },
    "vscode": {
      "interpreter": {
        "hash": "dad35ac5c78b496eda946afbd550ec296dcc8552236347d45adb0399e9bdd932"
      }
    }
  },
  "nbformat": 4,
  "nbformat_minor": 0
}
